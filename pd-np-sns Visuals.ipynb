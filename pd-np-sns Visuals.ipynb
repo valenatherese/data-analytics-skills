{
 "cells": [
  {
   "cell_type": "markdown",
   "id": "eee7bdaf",
   "metadata": {},
   "source": [
    "# MAIN SETUP\n",
    "Import statements"
   ]
  },
  {
   "cell_type": "code",
   "execution_count": 1,
   "id": "342d9e4b",
   "metadata": {},
   "outputs": [],
   "source": [
    "import numpy as np\n",
    "import pandas as pd\n",
    "import seaborn as sns\n",
    "\n",
    "import warnings\n",
    "warnings.filterwarnings('ignore')"
   ]
  },
  {
   "cell_type": "markdown",
   "id": "6b3dab2f",
   "metadata": {},
   "source": [
    "# TITANIC STUDY\n",
    "Dataset about passengers of the titanic"
   ]
  },
  {
   "cell_type": "code",
   "execution_count": 2,
   "id": "4fcc9898",
   "metadata": {
    "scrolled": true
   },
   "outputs": [],
   "source": [
    "titanic = sns.load_dataset('titanic')"
   ]
  },
  {
   "cell_type": "code",
   "execution_count": 3,
   "id": "637d0502",
   "metadata": {},
   "outputs": [
    {
     "data": {
      "text/html": [
       "<div>\n",
       "<style scoped>\n",
       "    .dataframe tbody tr th:only-of-type {\n",
       "        vertical-align: middle;\n",
       "    }\n",
       "\n",
       "    .dataframe tbody tr th {\n",
       "        vertical-align: top;\n",
       "    }\n",
       "\n",
       "    .dataframe thead th {\n",
       "        text-align: right;\n",
       "    }\n",
       "</style>\n",
       "<table border=\"1\" class=\"dataframe\">\n",
       "  <thead>\n",
       "    <tr style=\"text-align: right;\">\n",
       "      <th></th>\n",
       "      <th>survived</th>\n",
       "      <th>pclass</th>\n",
       "      <th>sex</th>\n",
       "      <th>age</th>\n",
       "      <th>sibsp</th>\n",
       "      <th>parch</th>\n",
       "      <th>fare</th>\n",
       "      <th>embarked</th>\n",
       "      <th>class</th>\n",
       "      <th>who</th>\n",
       "      <th>adult_male</th>\n",
       "      <th>deck</th>\n",
       "      <th>embark_town</th>\n",
       "      <th>alive</th>\n",
       "      <th>alone</th>\n",
       "    </tr>\n",
       "  </thead>\n",
       "  <tbody>\n",
       "    <tr>\n",
       "      <th>0</th>\n",
       "      <td>0</td>\n",
       "      <td>3</td>\n",
       "      <td>male</td>\n",
       "      <td>22.0</td>\n",
       "      <td>1</td>\n",
       "      <td>0</td>\n",
       "      <td>7.2500</td>\n",
       "      <td>S</td>\n",
       "      <td>Third</td>\n",
       "      <td>man</td>\n",
       "      <td>True</td>\n",
       "      <td>NaN</td>\n",
       "      <td>Southampton</td>\n",
       "      <td>no</td>\n",
       "      <td>False</td>\n",
       "    </tr>\n",
       "    <tr>\n",
       "      <th>1</th>\n",
       "      <td>1</td>\n",
       "      <td>1</td>\n",
       "      <td>female</td>\n",
       "      <td>38.0</td>\n",
       "      <td>1</td>\n",
       "      <td>0</td>\n",
       "      <td>71.2833</td>\n",
       "      <td>C</td>\n",
       "      <td>First</td>\n",
       "      <td>woman</td>\n",
       "      <td>False</td>\n",
       "      <td>C</td>\n",
       "      <td>Cherbourg</td>\n",
       "      <td>yes</td>\n",
       "      <td>False</td>\n",
       "    </tr>\n",
       "    <tr>\n",
       "      <th>2</th>\n",
       "      <td>1</td>\n",
       "      <td>3</td>\n",
       "      <td>female</td>\n",
       "      <td>26.0</td>\n",
       "      <td>0</td>\n",
       "      <td>0</td>\n",
       "      <td>7.9250</td>\n",
       "      <td>S</td>\n",
       "      <td>Third</td>\n",
       "      <td>woman</td>\n",
       "      <td>False</td>\n",
       "      <td>NaN</td>\n",
       "      <td>Southampton</td>\n",
       "      <td>yes</td>\n",
       "      <td>True</td>\n",
       "    </tr>\n",
       "    <tr>\n",
       "      <th>3</th>\n",
       "      <td>1</td>\n",
       "      <td>1</td>\n",
       "      <td>female</td>\n",
       "      <td>35.0</td>\n",
       "      <td>1</td>\n",
       "      <td>0</td>\n",
       "      <td>53.1000</td>\n",
       "      <td>S</td>\n",
       "      <td>First</td>\n",
       "      <td>woman</td>\n",
       "      <td>False</td>\n",
       "      <td>C</td>\n",
       "      <td>Southampton</td>\n",
       "      <td>yes</td>\n",
       "      <td>False</td>\n",
       "    </tr>\n",
       "    <tr>\n",
       "      <th>4</th>\n",
       "      <td>0</td>\n",
       "      <td>3</td>\n",
       "      <td>male</td>\n",
       "      <td>35.0</td>\n",
       "      <td>0</td>\n",
       "      <td>0</td>\n",
       "      <td>8.0500</td>\n",
       "      <td>S</td>\n",
       "      <td>Third</td>\n",
       "      <td>man</td>\n",
       "      <td>True</td>\n",
       "      <td>NaN</td>\n",
       "      <td>Southampton</td>\n",
       "      <td>no</td>\n",
       "      <td>True</td>\n",
       "    </tr>\n",
       "  </tbody>\n",
       "</table>\n",
       "</div>"
      ],
      "text/plain": [
       "   survived  pclass     sex   age  sibsp  parch     fare embarked  class  \\\n",
       "0         0       3    male  22.0      1      0   7.2500        S  Third   \n",
       "1         1       1  female  38.0      1      0  71.2833        C  First   \n",
       "2         1       3  female  26.0      0      0   7.9250        S  Third   \n",
       "3         1       1  female  35.0      1      0  53.1000        S  First   \n",
       "4         0       3    male  35.0      0      0   8.0500        S  Third   \n",
       "\n",
       "     who  adult_male deck  embark_town alive  alone  \n",
       "0    man        True  NaN  Southampton    no  False  \n",
       "1  woman       False    C    Cherbourg   yes  False  \n",
       "2  woman       False  NaN  Southampton   yes   True  \n",
       "3  woman       False    C  Southampton   yes  False  \n",
       "4    man        True  NaN  Southampton    no   True  "
      ]
     },
     "execution_count": 3,
     "metadata": {},
     "output_type": "execute_result"
    }
   ],
   "source": [
    "titanic.head()"
   ]
  },
  {
   "cell_type": "markdown",
   "id": "51be75ce",
   "metadata": {},
   "source": [
    "### Age, Class, and Companionship\n",
    "Box plot wherein\n",
    "- x is the class\n",
    "- y is the age\n",
    "- the pink boxes are for people with companions and the orange boxes are for people that are alone during the voyage"
   ]
  },
  {
   "cell_type": "code",
   "execution_count": 4,
   "id": "ae3784b7",
   "metadata": {},
   "outputs": [
    {
     "data": {
      "image/png": "[encoded data removed]",
      "text/plain": [
       "<Figure size 640x480 with 1 Axes>"
      ]
     },
     "metadata": {},
     "output_type": "display_data"
    }
   ],
   "source": [
    "age_dist = sns.boxplot(x='class',y='age',data=titanic,hue='alone',palette='spring')\n",
    "sns.move_legend(age_dist,'upper left',bbox_to_anchor=(1,1))"
   ]
  },
  {
   "cell_type": "markdown",
   "id": "e21b1e18",
   "metadata": {},
   "source": [
    "###### Distribution\n",
    "All distributions have outliers except the distribution of passengers in First Class who were travelling with companions, which is also approximately symmetric.\n",
    "\n",
    "The distribution of solo travellers in Third Class had the most outliers but the interquartile range is also the most concentrated."
   ]
  },
  {
   "cell_type": "markdown",
   "id": "65066447",
   "metadata": {},
   "source": [
    "### Age, Sex, Survival\n",
    "Swarm plot wherein\n",
    "- x is whether they survived or not\n",
    "- y is their age\n",
    "- light blue represents males and dark blue represents females."
   ]
  },
  {
   "cell_type": "code",
   "execution_count": 5,
   "id": "016da8b9",
   "metadata": {},
   "outputs": [
    {
     "data": {
      "text/plain": [
       "<Axes: xlabel='alive', ylabel='age'>"
      ]
     },
     "execution_count": 5,
     "metadata": {},
     "output_type": "execute_result"
    },
    {
     "data": {
      "image/png": "[encoded data removed]",
      "text/plain": [
       "<Figure size 640x480 with 1 Axes>"
      ]
     },
     "metadata": {},
     "output_type": "display_data"
    }
   ],
   "source": [
    "sns.swarmplot(x='alive',y='age',data=titanic,hue='sex',palette='Paired')"
   ]
  },
  {
   "cell_type": "markdown",
   "id": "53482c73",
   "metadata": {},
   "source": [
    "###### Correlation\n",
    "The swarm plot seems to hint at a correlation among the variables. Now, we run a pandas correlation test where\n",
    "* survived is `0` for a passsenger that did not survive and `1` for a passenger that survived\n",
    "* adult_male is `0` for a female passenger and `1` for a male passenger\n",
    "* age is the age of the passenger"
   ]
  },
  {
   "cell_type": "code",
   "execution_count": 6,
   "id": "e17eb95a",
   "metadata": {},
   "outputs": [
    {
     "data": {
      "text/html": [
       "<div>\n",
       "<style scoped>\n",
       "    .dataframe tbody tr th:only-of-type {\n",
       "        vertical-align: middle;\n",
       "    }\n",
       "\n",
       "    .dataframe tbody tr th {\n",
       "        vertical-align: top;\n",
       "    }\n",
       "\n",
       "    .dataframe thead th {\n",
       "        text-align: right;\n",
       "    }\n",
       "</style>\n",
       "<table border=\"1\" class=\"dataframe\">\n",
       "  <thead>\n",
       "    <tr style=\"text-align: right;\">\n",
       "      <th></th>\n",
       "      <th>survived</th>\n",
       "      <th>age</th>\n",
       "      <th>adult_male</th>\n",
       "    </tr>\n",
       "  </thead>\n",
       "  <tbody>\n",
       "    <tr>\n",
       "      <th>survived</th>\n",
       "      <td>1.000000</td>\n",
       "      <td>-0.077221</td>\n",
       "      <td>-0.557080</td>\n",
       "    </tr>\n",
       "    <tr>\n",
       "      <th>age</th>\n",
       "      <td>-0.077221</td>\n",
       "      <td>1.000000</td>\n",
       "      <td>0.280328</td>\n",
       "    </tr>\n",
       "    <tr>\n",
       "      <th>adult_male</th>\n",
       "      <td>-0.557080</td>\n",
       "      <td>0.280328</td>\n",
       "      <td>1.000000</td>\n",
       "    </tr>\n",
       "  </tbody>\n",
       "</table>\n",
       "</div>"
      ],
      "text/plain": [
       "            survived       age  adult_male\n",
       "survived    1.000000 -0.077221   -0.557080\n",
       "age        -0.077221  1.000000    0.280328\n",
       "adult_male -0.557080  0.280328    1.000000"
      ]
     },
     "execution_count": 6,
     "metadata": {},
     "output_type": "execute_result"
    }
   ],
   "source": [
    "titanic[['survived','age','adult_male']].corr()"
   ]
  },
  {
   "cell_type": "markdown",
   "id": "8a32f557",
   "metadata": {},
   "source": [
    "###### Distribution and Correlation\n",
    "The swarm plot shows a seemingly obvious correlation between sex and survival during the Titanic shipwreck. Running pandas correlation tests results in -0.557, considerably a moderate negative correlation between sex and survivorship. \n",
    "\n",
    "Based on the swarm plot and correlation tests, there is no correlation between age and survivorship."
   ]
  },
  {
   "cell_type": "markdown",
   "id": "87befe8e",
   "metadata": {},
   "source": [
    "### Survivor Count Across Sex and Class\n",
    "\n",
    "Bar chart where\n",
    "- x is the passenger's class (1st, 2nd, or 3rd class)\n",
    "- y is the number of passengers\n",
    "\n",
    "- dark violet is males who did not survive\n",
    "- light violet is males who survived\n",
    "- dark pink is females who did not survive\n",
    "- light pink is females who survived"
   ]
  },
  {
   "cell_type": "code",
   "execution_count": 7,
   "id": "ac94e605",
   "metadata": {},
   "outputs": [],
   "source": [
    "surv_conditions = [\n",
    "    (titanic['sex']=='male') & (titanic['survived']==0),\n",
    "    (titanic['sex']=='male') & (titanic['survived']==1),\n",
    "    (titanic['sex']=='female') & (titanic['survived']==0), \n",
    "    (titanic['sex']=='female') & (titanic['survived']==1),\n",
    "]\n",
    "surv_results = ['male_non_surv','male_surv','female_non_surv','female_surv']\n",
    "titanic['surv'] = np.select(surv_conditions, surv_results)"
   ]
  },
  {
   "cell_type": "code",
   "execution_count": 8,
   "id": "d872a3cb",
   "metadata": {},
   "outputs": [],
   "source": [
    "custom_color = dict({'male_non_surv':'#8080ed',\n",
    "                  'male_surv':'#acacf4',\n",
    "                  'female_non_surv': '#ec7d7d',\n",
    "                  'female_surv': '#f4bcc0',\n",
    "                    })"
   ]
  },
  {
   "cell_type": "code",
   "execution_count": 9,
   "id": "98dfdecb",
   "metadata": {},
   "outputs": [
    {
     "data": {
      "image/png": "[encoded data removed]",
      "text/plain": [
       "<Figure size 640x480 with 1 Axes>"
      ]
     },
     "metadata": {},
     "output_type": "display_data"
    }
   ],
   "source": [
    "fig = sns.countplot(\n",
    "    x='pclass',\n",
    "    data=titanic,\n",
    "    hue='surv',\n",
    "    hue_order=('male_non_surv','male_surv','female_non_surv','female_surv'),\n",
    "    palette=custom_color\n",
    ")"
   ]
  },
  {
   "cell_type": "markdown",
   "id": "e723d24b",
   "metadata": {},
   "source": [
    "###### Distribution\n",
    "It can be seen that in all classes, there were more male non-survivors than female non-survivors, with the most non-survivors being the males in Third Class.\n",
    "\n",
    "Notably, there were many more female survivors versus female non-survivors in the First and Second Classes but the counts were approximately equal in Third Class."
   ]
  },
  {
   "cell_type": "markdown",
   "id": "3e4397ff",
   "metadata": {},
   "source": [
    "### Survivor Percentage Across Sex and Class\n",
    "\n",
    "Multilevel index that shows the percentage of survival across sex and class"
   ]
  },
  {
   "cell_type": "code",
   "execution_count": 10,
   "id": "e15afcce",
   "metadata": {},
   "outputs": [],
   "source": [
    "# Percentages\n",
    "## calculating male overall survival\n",
    "total_ms = len(titanic[titanic['surv']=='male_surv'])\n",
    "total_m = len(titanic[(titanic['surv'].str.startswith('male'))])\n",
    "\n",
    "m_percent =  total_ms / total_m *100\n",
    "\n",
    "## calculating male survival by class\n",
    "surv_m_class1 = len(titanic[(titanic.surv == 'male_surv') & (titanic.pclass == 1)])\n",
    "all_m_class1 = len(titanic[(titanic['surv'].str.startswith('male')) & (titanic.pclass == 1)])\n",
    "\n",
    "surv_m_class2 = len(titanic[(titanic.surv == 'male_surv') & (titanic.pclass == 2)])\n",
    "all_m_class2 = len(titanic[(titanic['surv'].str.startswith('male')) & (titanic.pclass == 2)])\n",
    "\n",
    "surv_m_class3 = len(titanic[(titanic.surv == 'male_surv') & (titanic.pclass == 3)])\n",
    "all_m_class3 = len(titanic[(titanic['surv'].str.startswith('male')) & (titanic.pclass == 3)])\n",
    "\n",
    "m_percent_1 = surv_m_class1 / all_m_class1 *100\n",
    "m_percent_2 = surv_m_class2 / all_m_class2 *100\n",
    "m_percent_3 = surv_m_class3 / all_m_class3 *100\n",
    "\n",
    "## calculating female overall survival\n",
    "total_fs = len(titanic[titanic['surv']=='female_surv'])\n",
    "total_f = len(titanic[(titanic['surv'].str.startswith('female'))])\n",
    "\n",
    "f_percent = total_fs / total_f *100\n",
    "\n",
    "## calculating female survival by class\n",
    "\n",
    "surv_f_class1 = len(titanic[(titanic.surv == 'female_surv') & (titanic.pclass == 1)])\n",
    "all_f_class1 = len(titanic[(titanic['surv'].str.startswith('female')) & (titanic.pclass == 1)])\n",
    "\n",
    "surv_f_class2 = len(titanic[(titanic.surv == 'female_surv') & (titanic.pclass == 2)])\n",
    "all_f_class2 = len(titanic[(titanic['surv'].str.startswith('female')) & (titanic.pclass == 2)])\n",
    "\n",
    "surv_f_class3 = len(titanic[(titanic.surv == 'female_surv') & (titanic.pclass == 3)])\n",
    "all_f_class3 = len(titanic[(titanic['surv'].str.startswith('female')) & (titanic.pclass == 3)])\n",
    "\n",
    "f_percent_1 = surv_f_class1 / all_f_class1 *100\n",
    "f_percent_2 = surv_f_class2 / all_f_class2 *100\n",
    "f_percent_3 = surv_f_class3 / all_f_class3 *100                   \n",
    "\n",
    "## calculating overall survival\n",
    "total_s = len(titanic[(titanic['surv'].str.startswith('male'))])\n",
    "\n",
    "total_surv = len(titanic[(titanic.survived == 1)])\n",
    "total_passengers = len(titanic)\n",
    "total_percent = total_surv/total_passengers*100"
   ]
  },
  {
   "cell_type": "code",
   "execution_count": 11,
   "id": "e970bf63",
   "metadata": {},
   "outputs": [],
   "source": [
    "# Index Levels\n",
    "outer = ['male','male','male','male','female','female','female','female','overall']\n",
    "inner = ['overall','class 1','class 2','class 3','overall','class 1','class 2','class 3','overall']\n",
    "hier_index = list(zip(outer,inner))\n",
    "hier_index = pd.MultiIndex.from_tuples(hier_index)"
   ]
  },
  {
   "cell_type": "code",
   "execution_count": 12,
   "id": "9ee017d0",
   "metadata": {},
   "outputs": [
    {
     "data": {
      "text/html": [
       "<div>\n",
       "<style scoped>\n",
       "    .dataframe tbody tr th:only-of-type {\n",
       "        vertical-align: middle;\n",
       "    }\n",
       "\n",
       "    .dataframe tbody tr th {\n",
       "        vertical-align: top;\n",
       "    }\n",
       "\n",
       "    .dataframe thead th {\n",
       "        text-align: right;\n",
       "    }\n",
       "</style>\n",
       "<table border=\"1\" class=\"dataframe\">\n",
       "  <thead>\n",
       "    <tr style=\"text-align: right;\">\n",
       "      <th></th>\n",
       "      <th></th>\n",
       "      <th>Percent Survival</th>\n",
       "    </tr>\n",
       "  </thead>\n",
       "  <tbody>\n",
       "    <tr>\n",
       "      <th rowspan=\"4\" valign=\"top\">male</th>\n",
       "      <th>overall</th>\n",
       "      <td>18.89</td>\n",
       "    </tr>\n",
       "    <tr>\n",
       "      <th>class 1</th>\n",
       "      <td>36.89</td>\n",
       "    </tr>\n",
       "    <tr>\n",
       "      <th>class 2</th>\n",
       "      <td>15.74</td>\n",
       "    </tr>\n",
       "    <tr>\n",
       "      <th>class 3</th>\n",
       "      <td>13.54</td>\n",
       "    </tr>\n",
       "    <tr>\n",
       "      <th rowspan=\"4\" valign=\"top\">female</th>\n",
       "      <th>overall</th>\n",
       "      <td>74.20</td>\n",
       "    </tr>\n",
       "    <tr>\n",
       "      <th>class 1</th>\n",
       "      <td>96.81</td>\n",
       "    </tr>\n",
       "    <tr>\n",
       "      <th>class 2</th>\n",
       "      <td>92.11</td>\n",
       "    </tr>\n",
       "    <tr>\n",
       "      <th>class 3</th>\n",
       "      <td>50.00</td>\n",
       "    </tr>\n",
       "    <tr>\n",
       "      <th>overall</th>\n",
       "      <th>overall</th>\n",
       "      <td>38.38</td>\n",
       "    </tr>\n",
       "  </tbody>\n",
       "</table>\n",
       "</div>"
      ],
      "text/plain": [
       "                 Percent Survival\n",
       "male    overall             18.89\n",
       "        class 1             36.89\n",
       "        class 2             15.74\n",
       "        class 3             13.54\n",
       "female  overall             74.20\n",
       "        class 1             96.81\n",
       "        class 2             92.11\n",
       "        class 3             50.00\n",
       "overall overall             38.38"
      ]
     },
     "execution_count": 12,
     "metadata": {},
     "output_type": "execute_result"
    }
   ],
   "source": [
    "# Creating the DateFrame of the percentages\n",
    "percentages_df = pd.DataFrame([m_percent, m_percent_1, m_percent_2, m_percent_3, f_percent, f_percent_1, f_percent_2, f_percent_3,total_percent],hier_index,['Percent Survival'])\n",
    "percentages_df.round(2)"
   ]
  },
  {
   "cell_type": "markdown",
   "id": "08fea8c9",
   "metadata": {},
   "source": [
    "###### Description\n",
    "There was a higher percentage of First Class male survivors than male survivors overall.\n",
    "\n",
    "Similarly, there was a higher percentage of female survivors in First Class and Second Class compared to the percentage of female survivors overall."
   ]
  },
  {
   "cell_type": "markdown",
   "id": "e4ad00cc",
   "metadata": {},
   "source": [
    "### Class, Sex, Survival Correlation\n",
    "Run correlations among class, sex, and survivorship where\n",
    "* survived is `0` for a passsenger that did not survive and `1` for a passenger that survived\n",
    "* adult_male is `0` for a female passenger and `1` for a male passenger\n",
    "* pclass is the passenger class (1st, 2nd, or 3rd class)"
   ]
  },
  {
   "cell_type": "code",
   "execution_count": 13,
   "id": "b90cce2e",
   "metadata": {},
   "outputs": [
    {
     "data": {
      "text/html": [
       "<div>\n",
       "<style scoped>\n",
       "    .dataframe tbody tr th:only-of-type {\n",
       "        vertical-align: middle;\n",
       "    }\n",
       "\n",
       "    .dataframe tbody tr th {\n",
       "        vertical-align: top;\n",
       "    }\n",
       "\n",
       "    .dataframe thead th {\n",
       "        text-align: right;\n",
       "    }\n",
       "</style>\n",
       "<table border=\"1\" class=\"dataframe\">\n",
       "  <thead>\n",
       "    <tr style=\"text-align: right;\">\n",
       "      <th></th>\n",
       "      <th>survived</th>\n",
       "      <th>adult_male</th>\n",
       "      <th>pclass</th>\n",
       "    </tr>\n",
       "  </thead>\n",
       "  <tbody>\n",
       "    <tr>\n",
       "      <th>survived</th>\n",
       "      <td>1.000000</td>\n",
       "      <td>-0.557080</td>\n",
       "      <td>-0.338481</td>\n",
       "    </tr>\n",
       "    <tr>\n",
       "      <th>adult_male</th>\n",
       "      <td>-0.557080</td>\n",
       "      <td>1.000000</td>\n",
       "      <td>0.094035</td>\n",
       "    </tr>\n",
       "    <tr>\n",
       "      <th>pclass</th>\n",
       "      <td>-0.338481</td>\n",
       "      <td>0.094035</td>\n",
       "      <td>1.000000</td>\n",
       "    </tr>\n",
       "  </tbody>\n",
       "</table>\n",
       "</div>"
      ],
      "text/plain": [
       "            survived  adult_male    pclass\n",
       "survived    1.000000   -0.557080 -0.338481\n",
       "adult_male -0.557080    1.000000  0.094035\n",
       "pclass     -0.338481    0.094035  1.000000"
      ]
     },
     "execution_count": 13,
     "metadata": {},
     "output_type": "execute_result"
    }
   ],
   "source": [
    "# Class, Sex, and Survival\n",
    "titanic[['survived','adult_male','pclass']].corr()"
   ]
  },
  {
   "cell_type": "code",
   "execution_count": 14,
   "id": "b8ac2a58",
   "metadata": {},
   "outputs": [
    {
     "data": {
      "text/html": [
       "<div>\n",
       "<style scoped>\n",
       "    .dataframe tbody tr th:only-of-type {\n",
       "        vertical-align: middle;\n",
       "    }\n",
       "\n",
       "    .dataframe tbody tr th {\n",
       "        vertical-align: top;\n",
       "    }\n",
       "\n",
       "    .dataframe thead th {\n",
       "        text-align: right;\n",
       "    }\n",
       "</style>\n",
       "<table border=\"1\" class=\"dataframe\">\n",
       "  <thead>\n",
       "    <tr style=\"text-align: right;\">\n",
       "      <th></th>\n",
       "      <th>survived</th>\n",
       "      <th>pclass</th>\n",
       "    </tr>\n",
       "  </thead>\n",
       "  <tbody>\n",
       "    <tr>\n",
       "      <th>survived</th>\n",
       "      <td>1.000000</td>\n",
       "      <td>-0.338481</td>\n",
       "    </tr>\n",
       "    <tr>\n",
       "      <th>pclass</th>\n",
       "      <td>-0.338481</td>\n",
       "      <td>1.000000</td>\n",
       "    </tr>\n",
       "  </tbody>\n",
       "</table>\n",
       "</div>"
      ],
      "text/plain": [
       "          survived    pclass\n",
       "survived  1.000000 -0.338481\n",
       "pclass   -0.338481  1.000000"
      ]
     },
     "execution_count": 14,
     "metadata": {},
     "output_type": "execute_result"
    }
   ],
   "source": [
    "# Survival and Class (regardless of sex)\n",
    "titanic[['survived','pclass']].corr()"
   ]
  },
  {
   "cell_type": "code",
   "execution_count": 15,
   "id": "475a93d3",
   "metadata": {},
   "outputs": [
    {
     "data": {
      "text/html": [
       "<div>\n",
       "<style scoped>\n",
       "    .dataframe tbody tr th:only-of-type {\n",
       "        vertical-align: middle;\n",
       "    }\n",
       "\n",
       "    .dataframe tbody tr th {\n",
       "        vertical-align: top;\n",
       "    }\n",
       "\n",
       "    .dataframe thead th {\n",
       "        text-align: right;\n",
       "    }\n",
       "</style>\n",
       "<table border=\"1\" class=\"dataframe\">\n",
       "  <thead>\n",
       "    <tr style=\"text-align: right;\">\n",
       "      <th></th>\n",
       "      <th>survived</th>\n",
       "      <th>pclass</th>\n",
       "    </tr>\n",
       "  </thead>\n",
       "  <tbody>\n",
       "    <tr>\n",
       "      <th>survived</th>\n",
       "      <td>1.000000</td>\n",
       "      <td>-0.220618</td>\n",
       "    </tr>\n",
       "    <tr>\n",
       "      <th>pclass</th>\n",
       "      <td>-0.220618</td>\n",
       "      <td>1.000000</td>\n",
       "    </tr>\n",
       "  </tbody>\n",
       "</table>\n",
       "</div>"
      ],
      "text/plain": [
       "          survived    pclass\n",
       "survived  1.000000 -0.220618\n",
       "pclass   -0.220618  1.000000"
      ]
     },
     "execution_count": 15,
     "metadata": {},
     "output_type": "execute_result"
    }
   ],
   "source": [
    "# Survival and Class (Male Only)\n",
    "male_only = titanic[titanic['sex']=='male']\n",
    "male_only[['survived','pclass']].corr()"
   ]
  },
  {
   "cell_type": "code",
   "execution_count": 16,
   "id": "676e2bac",
   "metadata": {},
   "outputs": [
    {
     "data": {
      "text/html": [
       "<div>\n",
       "<style scoped>\n",
       "    .dataframe tbody tr th:only-of-type {\n",
       "        vertical-align: middle;\n",
       "    }\n",
       "\n",
       "    .dataframe tbody tr th {\n",
       "        vertical-align: top;\n",
       "    }\n",
       "\n",
       "    .dataframe thead th {\n",
       "        text-align: right;\n",
       "    }\n",
       "</style>\n",
       "<table border=\"1\" class=\"dataframe\">\n",
       "  <thead>\n",
       "    <tr style=\"text-align: right;\">\n",
       "      <th></th>\n",
       "      <th>survived</th>\n",
       "      <th>pclass</th>\n",
       "    </tr>\n",
       "  </thead>\n",
       "  <tbody>\n",
       "    <tr>\n",
       "      <th>survived</th>\n",
       "      <td>1.000000</td>\n",
       "      <td>-0.477114</td>\n",
       "    </tr>\n",
       "    <tr>\n",
       "      <th>pclass</th>\n",
       "      <td>-0.477114</td>\n",
       "      <td>1.000000</td>\n",
       "    </tr>\n",
       "  </tbody>\n",
       "</table>\n",
       "</div>"
      ],
      "text/plain": [
       "          survived    pclass\n",
       "survived  1.000000 -0.477114\n",
       "pclass   -0.477114  1.000000"
      ]
     },
     "execution_count": 16,
     "metadata": {},
     "output_type": "execute_result"
    }
   ],
   "source": [
    "# Survival and Class (Female Only)\n",
    "female_only = titanic[titanic['sex']=='female']\n",
    "female_only[['survived','pclass']].corr()"
   ]
  },
  {
   "cell_type": "markdown",
   "id": "7f8799e7",
   "metadata": {},
   "source": [
    "###### Correlation\n",
    "Running pandas correlation between survival and class results in approximately -0.34. When considering sex (either only males or only females) in the correlation, the result changes to approximately -0.22 (males) and approximately -0.48 (females).\n",
    "\n",
    "This may be interpreted as a passenger's class plays a less significant role in survival of males but a greater role in survival of females."
   ]
  },
  {
   "cell_type": "markdown",
   "id": "4f7bf8e4",
   "metadata": {},
   "source": [
    "# FLIGHT STUDY\n",
    "Dataset about the count of passengers for flights throuhgout years and months."
   ]
  },
  {
   "cell_type": "code",
   "execution_count": 17,
   "id": "f02a0f63",
   "metadata": {},
   "outputs": [
    {
     "data": {
      "text/html": [
       "<div>\n",
       "<style scoped>\n",
       "    .dataframe tbody tr th:only-of-type {\n",
       "        vertical-align: middle;\n",
       "    }\n",
       "\n",
       "    .dataframe tbody tr th {\n",
       "        vertical-align: top;\n",
       "    }\n",
       "\n",
       "    .dataframe thead th {\n",
       "        text-align: right;\n",
       "    }\n",
       "</style>\n",
       "<table border=\"1\" class=\"dataframe\">\n",
       "  <thead>\n",
       "    <tr style=\"text-align: right;\">\n",
       "      <th></th>\n",
       "      <th>year</th>\n",
       "      <th>month</th>\n",
       "      <th>passengers</th>\n",
       "    </tr>\n",
       "  </thead>\n",
       "  <tbody>\n",
       "    <tr>\n",
       "      <th>0</th>\n",
       "      <td>1949</td>\n",
       "      <td>Jan</td>\n",
       "      <td>112</td>\n",
       "    </tr>\n",
       "    <tr>\n",
       "      <th>1</th>\n",
       "      <td>1949</td>\n",
       "      <td>Feb</td>\n",
       "      <td>118</td>\n",
       "    </tr>\n",
       "    <tr>\n",
       "      <th>2</th>\n",
       "      <td>1949</td>\n",
       "      <td>Mar</td>\n",
       "      <td>132</td>\n",
       "    </tr>\n",
       "    <tr>\n",
       "      <th>3</th>\n",
       "      <td>1949</td>\n",
       "      <td>Apr</td>\n",
       "      <td>129</td>\n",
       "    </tr>\n",
       "    <tr>\n",
       "      <th>4</th>\n",
       "      <td>1949</td>\n",
       "      <td>May</td>\n",
       "      <td>121</td>\n",
       "    </tr>\n",
       "  </tbody>\n",
       "</table>\n",
       "</div>"
      ],
      "text/plain": [
       "   year month  passengers\n",
       "0  1949   Jan         112\n",
       "1  1949   Feb         118\n",
       "2  1949   Mar         132\n",
       "3  1949   Apr         129\n",
       "4  1949   May         121"
      ]
     },
     "execution_count": 17,
     "metadata": {},
     "output_type": "execute_result"
    }
   ],
   "source": [
    "flights = sns.load_dataset('flights')\n",
    "flights.head()"
   ]
  },
  {
   "cell_type": "markdown",
   "id": "16c24092",
   "metadata": {},
   "source": [
    "### Passenger Patterns Across Years and Months"
   ]
  },
  {
   "cell_type": "code",
   "execution_count": 18,
   "id": "5370b791",
   "metadata": {},
   "outputs": [
    {
     "data": {
      "text/plain": [
       "<Axes: xlabel='year', ylabel='month'>"
      ]
     },
     "execution_count": 18,
     "metadata": {},
     "output_type": "execute_result"
    },
    {
     "data": {
      "image/png": "[encoded data removed]",
      "text/plain": [
       "<Figure size 640x480 with 2 Axes>"
      ]
     },
     "metadata": {},
     "output_type": "display_data"
    }
   ],
   "source": [
    "flights.pivot_table(index='month',columns='year',values='passengers')\n",
    "fp = flights.pivot_table(index='month',columns='year',values='passengers')\n",
    "sns.heatmap(fp,cmap='Oranges_r')"
   ]
  },
  {
   "cell_type": "markdown",
   "id": "706f1f07",
   "metadata": {},
   "source": [
    "###### Pattern Description\n",
    "The number of passengers increased as the years passed. Moreover, the months with the most passengers within their respective years were July to August."
   ]
  },
  {
   "cell_type": "markdown",
   "id": "9f21d0b9",
   "metadata": {},
   "source": [
    "# RESTAURANT STUDY\n",
    "Dataset about customers of a restaurant"
   ]
  },
  {
   "cell_type": "code",
   "execution_count": 19,
   "id": "3cf86fbc",
   "metadata": {},
   "outputs": [
    {
     "data": {
      "text/html": [
       "<div>\n",
       "<style scoped>\n",
       "    .dataframe tbody tr th:only-of-type {\n",
       "        vertical-align: middle;\n",
       "    }\n",
       "\n",
       "    .dataframe tbody tr th {\n",
       "        vertical-align: top;\n",
       "    }\n",
       "\n",
       "    .dataframe thead th {\n",
       "        text-align: right;\n",
       "    }\n",
       "</style>\n",
       "<table border=\"1\" class=\"dataframe\">\n",
       "  <thead>\n",
       "    <tr style=\"text-align: right;\">\n",
       "      <th></th>\n",
       "      <th>total_bill</th>\n",
       "      <th>tip</th>\n",
       "      <th>sex</th>\n",
       "      <th>smoker</th>\n",
       "      <th>day</th>\n",
       "      <th>time</th>\n",
       "      <th>size</th>\n",
       "    </tr>\n",
       "  </thead>\n",
       "  <tbody>\n",
       "    <tr>\n",
       "      <th>0</th>\n",
       "      <td>16.99</td>\n",
       "      <td>1.01</td>\n",
       "      <td>Female</td>\n",
       "      <td>No</td>\n",
       "      <td>Sun</td>\n",
       "      <td>Dinner</td>\n",
       "      <td>2</td>\n",
       "    </tr>\n",
       "    <tr>\n",
       "      <th>1</th>\n",
       "      <td>10.34</td>\n",
       "      <td>1.66</td>\n",
       "      <td>Male</td>\n",
       "      <td>No</td>\n",
       "      <td>Sun</td>\n",
       "      <td>Dinner</td>\n",
       "      <td>3</td>\n",
       "    </tr>\n",
       "    <tr>\n",
       "      <th>2</th>\n",
       "      <td>21.01</td>\n",
       "      <td>3.50</td>\n",
       "      <td>Male</td>\n",
       "      <td>No</td>\n",
       "      <td>Sun</td>\n",
       "      <td>Dinner</td>\n",
       "      <td>3</td>\n",
       "    </tr>\n",
       "    <tr>\n",
       "      <th>3</th>\n",
       "      <td>23.68</td>\n",
       "      <td>3.31</td>\n",
       "      <td>Male</td>\n",
       "      <td>No</td>\n",
       "      <td>Sun</td>\n",
       "      <td>Dinner</td>\n",
       "      <td>2</td>\n",
       "    </tr>\n",
       "    <tr>\n",
       "      <th>4</th>\n",
       "      <td>24.59</td>\n",
       "      <td>3.61</td>\n",
       "      <td>Female</td>\n",
       "      <td>No</td>\n",
       "      <td>Sun</td>\n",
       "      <td>Dinner</td>\n",
       "      <td>4</td>\n",
       "    </tr>\n",
       "  </tbody>\n",
       "</table>\n",
       "</div>"
      ],
      "text/plain": [
       "   total_bill   tip     sex smoker  day    time  size\n",
       "0       16.99  1.01  Female     No  Sun  Dinner     2\n",
       "1       10.34  1.66    Male     No  Sun  Dinner     3\n",
       "2       21.01  3.50    Male     No  Sun  Dinner     3\n",
       "3       23.68  3.31    Male     No  Sun  Dinner     2\n",
       "4       24.59  3.61  Female     No  Sun  Dinner     4"
      ]
     },
     "execution_count": 19,
     "metadata": {},
     "output_type": "execute_result"
    }
   ],
   "source": [
    "customers = sns.load_dataset('tips')\n",
    "customers.head()"
   ]
  },
  {
   "cell_type": "markdown",
   "id": "d26d44cc",
   "metadata": {},
   "source": [
    "### Group Size and Day"
   ]
  },
  {
   "cell_type": "code",
   "execution_count": 20,
   "id": "8e56a55f",
   "metadata": {},
   "outputs": [
    {
     "data": {
      "text/plain": [
       "<Axes: xlabel='day', ylabel='count'>"
      ]
     },
     "execution_count": 20,
     "metadata": {},
     "output_type": "execute_result"
    },
    {
     "data": {
      "image/png": "[encoded data removed]",
      "text/plain": [
       "<Figure size 640x480 with 1 Axes>"
      ]
     },
     "metadata": {},
     "output_type": "display_data"
    }
   ],
   "source": [
    "sns.countplot(x='day',data=customers,hue='size',palette='rocket_r')"
   ]
  },
  {
   "cell_type": "markdown",
   "id": "419cdfb7",
   "metadata": {},
   "source": [
    "###### Count Distribution\n",
    "The restaurant mostly has customers in a group size of 2 people.\n",
    "\n",
    "There are no solo customers on Sunday and no customer group size of 6 on Friday and Saturday."
   ]
  }
 ],
 "metadata": {
  "kernelspec": {
   "display_name": "Python 3 (ipykernel)",
   "language": "python",
   "name": "python3"
  },
  "language_info": {
   "codemirror_mode": {
    "name": "ipython",
    "version": 3
   },
   "file_extension": ".py",
   "mimetype": "text/x-python",
   "name": "python",
   "nbconvert_exporter": "python",
   "pygments_lexer": "ipython3",
   "version": "3.11.0"
  }
 },
 "nbformat": 4,
 "nbformat_minor": 5
}
